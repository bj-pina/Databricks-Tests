{
 "cells": [
  {
   "cell_type": "markdown",
   "metadata": {
    "application/vnd.databricks.v1+cell": {
     "cellMetadata": {},
     "inputWidgets": {},
     "nuid": "72e924cd-a709-49cd-92b2-7b46895be268",
     "showTitle": false,
     "tableResultSettingsMap": {},
     "title": ""
    }
   },
   "source": [
    "## Bronze Layer"
   ]
  },
  {
   "cell_type": "code",
   "execution_count": 0,
   "metadata": {
    "application/vnd.databricks.v1+cell": {
     "cellMetadata": {
      "byteLimit": 2048000,
      "implicitDf": true,
      "rowLimit": 10000
     },
     "inputWidgets": {},
     "nuid": "6d365c8d-6d37-4fb5-8e39-4472a520cb2b",
     "showTitle": false,
     "tableResultSettingsMap": {},
     "title": ""
    }
   },
   "outputs": [],
   "source": [
    "\n",
    "CREATE OR REFRESH STREAMING LIVE TABLE bronze_incident_response_seattle_911\n",
    "COMMENT \"These are the 911 incident response from Seattle\"\n",
    "AS\n",
    "SELECT at_scene_time, cad_cdw_id, cad_event_number, census_tract, district_sector, event_clearance_code, event_clearance_date, event_clearance_description, event_clearance_group, event_clearance_subgroup, general_offense_number, hundred_block_location, incident_location, initial_type_description, initial_type_group, initial_type_subgroup, zone_beat\n",
    "FROM cloud_files(\"${datasets.path}\", \"json\", map(\"cloudFiles.inferColumnTypes\", \"true\"))\n",
    "GROUP BY at_scene_time, cad_cdw_id, cad_event_number, census_tract, district_sector, event_clearance_code, event_clearance_date, event_clearance_description, event_clearance_group, event_clearance_subgroup, general_offense_number, hundred_block_location, incident_location, initial_type_description, initial_type_group, initial_type_subgroup, zone_beat;\n"
   ]
  },
  {
   "cell_type": "markdown",
   "metadata": {
    "application/vnd.databricks.v1+cell": {
     "cellMetadata": {},
     "inputWidgets": {},
     "nuid": "d0da6fd2-a714-4cb3-be49-46a1477fcb9c",
     "showTitle": false,
     "tableResultSettingsMap": {},
     "title": ""
    }
   },
   "source": [
    "## Silver layer"
   ]
  },
  {
   "cell_type": "code",
   "execution_count": 0,
   "metadata": {
    "application/vnd.databricks.v1+cell": {
     "cellMetadata": {
      "byteLimit": 2048000,
      "implicitDf": true,
      "rowLimit": 10000
     },
     "inputWidgets": {},
     "nuid": "d943aad6-c1f5-4132-b744-5b54aea7adee",
     "showTitle": false,
     "tableResultSettingsMap": {},
     "title": ""
    }
   },
   "outputs": [],
   "source": [
    "\n",
    "CREATE OR REFRESH STREAMING LIVE TABLE silver_incident_response\n",
    "(CONSTRAINT valid_record EXPECT (cad_cdw_id IS NOT NULL) ON VIOLATION DROP ROW)\n",
    "COMMENT \"These are the 911 incident response from everywhere\"\n",
    "AS\n",
    "SELECT at_scene_time, cad_cdw_id, cad_event_number, census_tract, district_sector, event_clearance_code, event_clearance_date, event_clearance_description, event_clearance_group, event_clearance_subgroup, general_offense_number, hundred_block_location, \n",
    "CAST(SPLIT(SUBSTRING(incident_location, 2, LENGTH(incident_location) - 2), ', ')[0] AS INT) AS incident_latitude,\n",
    "CAST(SPLIT(SUBSTRING(incident_location, 2, LENGTH(incident_location) - 2), ', ')[1] AS INT) AS incident_longitude, initial_type_description, initial_type_group, initial_type_subgroup, zone_beat\n",
    "FROM STREAM(LIVE.bronze_incident_response_seattle_911);"
   ]
  },
  {
   "cell_type": "markdown",
   "metadata": {
    "application/vnd.databricks.v1+cell": {
     "cellMetadata": {},
     "inputWidgets": {},
     "nuid": "f3995cff-c1c8-4722-b5cd-7110aa6276bd",
     "showTitle": false,
     "tableResultSettingsMap": {},
     "title": ""
    }
   },
   "source": [
    "## Gold Layer"
   ]
  },
  {
   "cell_type": "code",
   "execution_count": 0,
   "metadata": {
    "application/vnd.databricks.v1+cell": {
     "cellMetadata": {},
     "inputWidgets": {},
     "nuid": "87c3ebaf-1b6b-4289-bfc4-6223703df6a5",
     "showTitle": false,
     "tableResultSettingsMap": {},
     "title": ""
    }
   },
   "outputs": [],
   "source": [
    "CREATE OR REFRESH LIVE TABLE types_of_incidents_counts\n",
    "COMMENT \"This is a report of incidents by type\"\n",
    "AS \n",
    "SELECT initial_type_group, COUNT(*) AS num_of_incidents\n",
    "FROM LIVE.silver_incident_response\n",
    "GROUP BY initial_type_group;\n",
    "\n"
   ]
  }
 ],
 "metadata": {
  "application/vnd.databricks.v1+notebook": {
   "computePreferences": null,
   "dashboards": [],
   "environmentMetadata": {
    "base_environment": "",
    "environment_version": "2"
   },
   "inputWidgetPreferences": null,
   "language": "sql",
   "notebookMetadata": {
    "mostRecentlyExecutedCommandWithImplicitDF": {
     "commandId": 7420190447259673,
     "dataframes": [
      "_sqldf"
     ]
    },
    "pythonIndentUnit": 4
   },
   "notebookName": "2 - DLT scripts",
   "widgets": {}
  },
  "language_info": {
   "name": "sql"
  }
 },
 "nbformat": 4,
 "nbformat_minor": 0
}
